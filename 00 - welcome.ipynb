{
  "cells": [
    {
      "cell_type": "markdown",
      "metadata": {
        "id": "kmGZ7gYVnCIi"
      },
      "source": [
        "<a target=\"_blank\" href=\"https://colab.research.google.com/github/duarteocarmo/deepseek-agents-workshop/blob/master/00%20-%20welcome.ipynb\">\n",
        "  <img src=\"https://colab.research.google.com/assets/colab-badge.svg\" alt=\"Open In Colab\"/>\n",
        "</a>"
      ]
    },
    {
      "cell_type": "code",
      "execution_count": 4,
      "metadata": {
        "id": "84NpqbGynCIj"
      },
      "outputs": [],
      "source": [
        "# THIS CELL IS ONLY FOR GOOGLE COLAB! IF you are not using colab, ignore it.\n",
        "# IF YOU ARE USING COLAB, UNCOMMENT THE CELLS BELOW AND REPLACE XX WITH YOUR API KEY\n",
        "# !pip install ipykernel jinja2 jupyter-black load-dotenv markdownify 'markitdown[pdf]' openai rank-bm25 requests\n",
        "\n",
        "!echo \"DEEPSEEK_API_KEY=sk-945283d048c3453c80d8311837359641\" > api_keys.env"
      ]
    },
    {
      "cell_type": "markdown",
      "metadata": {
        "editable": true,
        "tags": [],
        "id": "XFLbaPWUnCIk"
      },
      "source": [
        "# Welcome to the Workshop: Agentic AI with DeepSeek\n",
        "\n",
        "## Outline\n",
        "\n",
        "- Introduction\n",
        "  - Who am I\n",
        "  - Workshop material\n",
        "  - Setup and test\n",
        "- DeepSeek and tool calling 101\n",
        "- Agents vs. Workflows\n",
        "- Creating a tool calling agent\n",
        "- Conclusion"
      ]
    },
    {
      "cell_type": "markdown",
      "metadata": {
        "editable": true,
        "tags": [],
        "id": "CoRp89CCnCIk"
      },
      "source": [
        "## Notebooks:\n",
        "\n",
        "1. [deepseek-tool-calling-101.ipynb](./01%20-%20deepseek-tool-calling-101.ipynb)\n",
        "2. [agents-vs-workflows.ipynb](./02%20-%20agents-vs-workflows.ipynb)\n",
        "3. [tool-calling-agent.ipynb](./03%20-%20tool-calling-agent.ipynb)"
      ]
    },
    {
      "cell_type": "markdown",
      "metadata": {
        "editable": true,
        "tags": [],
        "id": "XRXHvLDTnCIk"
      },
      "source": [
        "## Introduction\n",
        "\n",
        "### Who am I?\n",
        "\n",
        "|  |  |\n",
        "|--------|------|\n",
        "| ![Duarte Carmo](https://github.com/duarteocarmo/deepseek-agents-workshop/blob/master/assets/duarte.png?raw=1) | **Duarte Carmo**<br><br>I'm a technologist, born and raised in sunny Lisbon, now based in Copenhagen. My work lies in the intersection of Machine Learning & AI, Data, Software, and People. I'm in love with Technology, and how it can improve people's lives.<br><br>In the past, I've worked in Consumer Electronics, Public Institutions, Big Three Management Consulting, and YC-backed startups. The common thread? Solving hard problems end-to-end.<br><br>Email: [me@duarteocarmo.com](mailto:me@duarteocarmo.com)<br>LinkedIn: [https://www.linkedin.com/in/duarteocarmo](https://www.linkedin.com/in/duarteocarmo) |"
      ]
    },
    {
      "cell_type": "markdown",
      "metadata": {
        "id": "IA4hhC-InCIk"
      },
      "source": [
        "![https://m.media-amazon.com/images/I/81X-KhyWcCL._SY385_.jpg](https://m.media-amazon.com/images/I/81X-KhyWcCL._SY385_.jpg)\n",
        "## Pre-oder: [tinyurl.com/deepseekbook](https://tinyurl.com/deepseekbook)"
      ]
    },
    {
      "cell_type": "markdown",
      "metadata": {
        "editable": true,
        "tags": [],
        "id": "aHfEBdetnCIk"
      },
      "source": [
        "## Setup\n",
        "\n",
        "To use DeepSeek, get an API key:\n",
        "1. Visit https://platform.deepseek.com/usage\n",
        "2. Set up billing\n",
        "3. Create a new API key\n",
        "4. Put the api key in the `api_keys.env` file as `DEEPSEEK_API_KEY=sk-XXXXXXX`\n",
        "5. Make sure you can run the cells below"
      ]
    },
    {
      "cell_type": "code",
      "execution_count": 5,
      "metadata": {
        "id": "wiSJLzbhnCIl",
        "outputId": "99d8266a-73b2-4f40-984a-33f2c7e8cb70",
        "colab": {
          "base_uri": "https://localhost:8080/",
          "height": 393
        }
      },
      "outputs": [
        {
          "output_type": "error",
          "ename": "ModuleNotFoundError",
          "evalue": "No module named 'dotenv'",
          "traceback": [
            "\u001b[0;31m---------------------------------------------------------------------------\u001b[0m",
            "\u001b[0;31mModuleNotFoundError\u001b[0m                       Traceback (most recent call last)",
            "\u001b[0;32m/tmp/ipython-input-2664531613.py\u001b[0m in \u001b[0;36m<cell line: 0>\u001b[0;34m()\u001b[0m\n\u001b[1;32m      1\u001b[0m \u001b[0;32mimport\u001b[0m \u001b[0mos\u001b[0m\u001b[0;34m\u001b[0m\u001b[0;34m\u001b[0m\u001b[0m\n\u001b[0;32m----> 2\u001b[0;31m \u001b[0;32mfrom\u001b[0m \u001b[0mdotenv\u001b[0m \u001b[0;32mimport\u001b[0m \u001b[0mload_dotenv\u001b[0m\u001b[0;34m\u001b[0m\u001b[0;34m\u001b[0m\u001b[0m\n\u001b[0m\u001b[1;32m      3\u001b[0m \u001b[0;32mimport\u001b[0m \u001b[0mjupyter_black\u001b[0m\u001b[0;34m\u001b[0m\u001b[0;34m\u001b[0m\u001b[0m\n\u001b[1;32m      4\u001b[0m \u001b[0;34m\u001b[0m\u001b[0m\n\u001b[1;32m      5\u001b[0m \u001b[0mjupyter_black\u001b[0m\u001b[0;34m.\u001b[0m\u001b[0mload\u001b[0m\u001b[0;34m(\u001b[0m\u001b[0;34m)\u001b[0m\u001b[0;34m\u001b[0m\u001b[0;34m\u001b[0m\u001b[0m\n",
            "\u001b[0;31mModuleNotFoundError\u001b[0m: No module named 'dotenv'",
            "",
            "\u001b[0;31m---------------------------------------------------------------------------\u001b[0;32m\nNOTE: If your import is failing due to a missing package, you can\nmanually install dependencies using either !pip or !apt.\n\nTo view examples of installing some common dependencies, click the\n\"Open Examples\" button below.\n\u001b[0;31m---------------------------------------------------------------------------\u001b[0m\n"
          ],
          "errorDetails": {
            "actions": [
              {
                "action": "open_url",
                "actionText": "Open Examples",
                "url": "/notebooks/snippets/importing_libraries.ipynb"
              }
            ]
          }
        }
      ],
      "source": [
        "import os\n",
        "from dotenv import load_dotenv\n",
        "import jupyter_black\n",
        "\n",
        "jupyter_black.load()\n",
        "\n",
        "\n",
        "load_dotenv(dotenv_path=\"api_keys.env\", override=True)\n",
        "\n",
        "API_KEY = os.getenv(\"DEEPSEEK_API_KEY\")\n",
        "BASE_URL = \"https://api.deepseek.com\"\n",
        "MODEL = \"deepseek-chat\"\n",
        "\n",
        "assert len(API_KEY) > 0, \"DEEPSEEK_API_KEY is not set\""
      ]
    },
    {
      "cell_type": "code",
      "execution_count": null,
      "metadata": {
        "id": "UUtS3AKanCIl",
        "outputId": "c1fd8560-3472-49af-c9ea-159469df3a23"
      },
      "outputs": [
        {
          "name": "stdout",
          "output_type": "stream",
          "text": [
            "In the context of artificial intelligence (AI) and computer science, **agents** are autonomous entities that perceive their environment through sensors, process information, and take actions to achieve specific goals using actuators. They can range from simple rule-based systems to complex learning-based models like AI assistants (e.g., ChatGPT) or robotics systems.\n",
            "\n",
            "### Key Characteristics of Agents:\n",
            "1. **Autonomy**: Operate without direct human intervention.\n",
            "2. **Perception**: Use sensors (or data inputs) to observe their environment.\n",
            "3. **Decision-Making**: Process information to choose actions (e.g., via algorithms or AI models).\n",
            "4. **Action**: Affect the environment through actuators (e.g., output text, move a robot arm).\n",
            "5. **Goal-Directed**: Aim to achieve objectives, whether predefined (e.g., answering a question) or learned.\n",
            "\n",
            "### Types of Agents:\n",
            "1. **Simple Reflex Agents**: Act based on current percepts (e.g., thermostat).\n",
            "2. **Model-Based"
          ]
        }
      ],
      "source": [
        "from openai import OpenAI\n",
        "\n",
        "client = OpenAI(api_key=API_KEY, base_url=BASE_URL)\n",
        "stream = client.chat.completions.create(\n",
        "    model=MODEL,\n",
        "    messages=[{\"role\": \"user\", \"content\": \"What are agents?\"}],\n",
        "    temperature=0.0,\n",
        "    max_tokens=200,\n",
        "    stream=True,\n",
        ")\n",
        "\n",
        "text = \"\"\n",
        "for chunk in stream:\n",
        "    delta = chunk.choices[0].delta.content\n",
        "    print(delta, end=\"\", flush=True)\n",
        "    text += delta"
      ]
    },
    {
      "cell_type": "markdown",
      "metadata": {
        "id": "0o7oqREanCIl"
      },
      "source": [
        "Great, now we are ready to get started!"
      ]
    }
  ],
  "metadata": {
    "kernelspec": {
      "display_name": ".venv",
      "language": "python",
      "name": "python3"
    },
    "language_info": {
      "codemirror_mode": {
        "name": "ipython",
        "version": 3
      },
      "file_extension": ".py",
      "mimetype": "text/x-python",
      "name": "python",
      "nbconvert_exporter": "python",
      "pygments_lexer": "ipython3",
      "version": "3.12.6"
    },
    "colab": {
      "provenance": []
    }
  },
  "nbformat": 4,
  "nbformat_minor": 0
}